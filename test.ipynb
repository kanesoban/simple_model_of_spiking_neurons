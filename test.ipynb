{
 "cells": [
  {
   "cell_type": "code",
   "execution_count": 2,
   "metadata": {},
   "outputs": [],
   "source": [
    "import numpy as np\n",
    "import matplotlib\n",
    "import matplotlib.pyplot as plt\n",
    "%matplotlib inline\n",
    "\n",
    "from snn import Network"
   ]
  },
  {
   "cell_type": "code",
   "execution_count": 3,
   "metadata": {},
   "outputs": [],
   "source": [
    "NEURONS = 1\n",
    "# milliseconds\n",
    "SIM_TIME = 1000\n",
    "# milliampers\n",
    "CONST_CURRENT = 7\n",
    "RESTING_POTENTIAL = np.full(NEURONS, -70)\n",
    "CLAMP_VOLTAGES = True\n",
    "dt = 0.5\n",
    "sim_length = int(SIM_TIME / dt)\n",
    "\n",
    "\n",
    "\n",
    "a = np.full(NEURONS, 0.02)\n",
    "b = np.full(NEURONS, 0.2)\n",
    "c = np.full(NEURONS, -65)\n",
    "d = np.full(NEURONS, 8)\n",
    "SPIKING_THRESHOLDS = np.full(NEURONS, 35)"
   ]
  },
  {
   "cell_type": "code",
   "execution_count": 4,
   "metadata": {},
   "outputs": [],
   "source": [
    "network = Network(a, b, c, d, RESTING_POTENTIAL, SPIKING_THRESHOLDS, dt)"
   ]
  },
  {
   "cell_type": "code",
   "execution_count": 5,
   "metadata": {},
   "outputs": [],
   "source": [
    "membrane_potentials = np.empty((sim_length, NEURONS))\n",
    "membrane_potentials[0, :] = network.v\n",
    "input_currents = np.full((sim_length, NEURONS), CONST_CURRENT)\n",
    "\n",
    "for t in range(1, sim_length):\n",
    "    network.step(input_currents[t, :])\n",
    "    membrane_potentials[t, :] = network.v"
   ]
  },
  {
   "cell_type": "code",
   "execution_count": 6,
   "metadata": {},
   "outputs": [
    {
     "data": {
      "image/png": "[encoded data removed]",
      "text/plain": [
       "<Figure size 432x288 with 2 Axes>"
      ]
     },
     "metadata": {
      "needs_background": "light"
     },
     "output_type": "display_data"
    }
   ],
   "source": [
    "fig, (ax1, ax2) = plt.subplots(2, 1)\n",
    "time = list(range(SIM_TIME))\n",
    "ax1.plot(time, [membrane_potentials[int(i/dt)][0] for i in time])\n",
    "ax1.set(ylabel='voltage (mV)',\n",
    "        title='Membrane potential over time')\n",
    "ax1.grid()\n",
    "\n",
    "ax2.plot(time, [input_currents[int(i/dt)][0] for i in time])\n",
    "ax2.set(xlabel='time (ms)', ylabel='input current (mA)')\n",
    "ax2.grid()\n",
    "fig.savefig(\"membrane_potential.png\")"
   ]
  },
  {
   "cell_type": "code",
   "execution_count": null,
   "metadata": {},
   "outputs": [],
   "source": []
  }
 ],
 "metadata": {
  "kernelspec": {
   "display_name": "Python 3",
   "language": "python",
   "name": "python3"
  },
  "language_info": {
   "codemirror_mode": {
    "name": "ipython",
    "version": 3
   },
   "file_extension": ".py",
   "mimetype": "text/x-python",
   "name": "python",
   "nbconvert_exporter": "python",
   "pygments_lexer": "ipython3",
   "version": "3.6.10"
  }
 },
 "nbformat": 4,
 "nbformat_minor": 4
}
